{
  "nbformat": 4,
  "nbformat_minor": 0,
  "metadata": {
    "colab": {
      "name": "Wildfire_Prediction.ipynb",
      "provenance": [],
      "collapsed_sections": []
    },
    "kernelspec": {
      "name": "python3",
      "display_name": "Python 3"
    },
    "accelerator": "GPU"
  },
  "cells": [
    {
      "cell_type": "markdown",
      "metadata": {
        "id": "AMRXEkelSYEx"
      },
      "source": [
        "# Data Retrieval"
      ]
    },
    {
      "cell_type": "markdown",
      "metadata": {
        "id": "5KUos6G0SL66"
      },
      "source": [
        "We first obtained the training and testing data from the project github, and unzipped the files. "
      ]
    },
    {
      "cell_type": "code",
      "metadata": {
        "id": "BxzA3n9nHeJD",
        "colab": {
          "base_uri": "https://localhost:8080/"
        },
        "outputId": "ca024957-5f10-466a-b68a-64e97363db41"
      },
      "source": [
        "!wget https://github.com/lakigigar/Caltech-CS155-2021/raw/main/projects/project1/WILDFIRES_TEST.zip\r\n",
        "!wget https://github.com/lakigigar/Caltech-CS155-2021/raw/main/projects/project1/WILDFIRES_TRAIN.zip\r\n",
        "\r\n",
        "!unzip WILDFIRES_TEST.zip\r\n",
        "!unzip WILDFIRES_TRAIN.zip"
      ],
      "execution_count": null,
      "outputs": [
        {
          "output_type": "stream",
          "text": [
            "--2021-02-12 01:53:39--  https://github.com/lakigigar/Caltech-CS155-2021/raw/main/projects/project1/WILDFIRES_TEST.zip\n",
            "Resolving github.com (github.com)... 140.82.112.4\n",
            "Connecting to github.com (github.com)|140.82.112.4|:443... connected.\n",
            "HTTP request sent, awaiting response... 302 Found\n",
            "Location: https://raw.githubusercontent.com/lakigigar/Caltech-CS155-2021/main/projects/project1/WILDFIRES_TEST.zip [following]\n",
            "--2021-02-12 01:53:40--  https://raw.githubusercontent.com/lakigigar/Caltech-CS155-2021/main/projects/project1/WILDFIRES_TEST.zip\n",
            "Resolving raw.githubusercontent.com (raw.githubusercontent.com)... 185.199.108.133, 185.199.109.133, 185.199.110.133, ...\n",
            "Connecting to raw.githubusercontent.com (raw.githubusercontent.com)|185.199.108.133|:443... connected.\n",
            "HTTP request sent, awaiting response... 200 OK\n",
            "Length: 1380759 (1.3M) [application/zip]\n",
            "Saving to: ‘WILDFIRES_TEST.zip.1’\n",
            "\n",
            "WILDFIRES_TEST.zip. 100%[===================>]   1.32M  --.-KB/s    in 0.02s   \n",
            "\n",
            "2021-02-12 01:53:40 (72.9 MB/s) - ‘WILDFIRES_TEST.zip.1’ saved [1380759/1380759]\n",
            "\n",
            "--2021-02-12 01:53:40--  https://github.com/lakigigar/Caltech-CS155-2021/raw/main/projects/project1/WILDFIRES_TRAIN.zip\n",
            "Resolving github.com (github.com)... 140.82.112.4\n",
            "Connecting to github.com (github.com)|140.82.112.4|:443... connected.\n",
            "HTTP request sent, awaiting response... 302 Found\n",
            "Location: https://raw.githubusercontent.com/lakigigar/Caltech-CS155-2021/main/projects/project1/WILDFIRES_TRAIN.zip [following]\n",
            "--2021-02-12 01:53:40--  https://raw.githubusercontent.com/lakigigar/Caltech-CS155-2021/main/projects/project1/WILDFIRES_TRAIN.zip\n",
            "Resolving raw.githubusercontent.com (raw.githubusercontent.com)... 185.199.108.133, 185.199.109.133, 185.199.110.133, ...\n",
            "Connecting to raw.githubusercontent.com (raw.githubusercontent.com)|185.199.108.133|:443... connected.\n",
            "HTTP request sent, awaiting response... 200 OK\n",
            "Length: 4618088 (4.4M) [application/zip]\n",
            "Saving to: ‘WILDFIRES_TRAIN.zip.1’\n",
            "\n",
            "WILDFIRES_TRAIN.zip 100%[===================>]   4.40M  --.-KB/s    in 0.05s   \n",
            "\n",
            "2021-02-12 01:53:40 (97.2 MB/s) - ‘WILDFIRES_TRAIN.zip.1’ saved [4618088/4618088]\n",
            "\n",
            "Archive:  WILDFIRES_TEST.zip\n",
            "replace WILDFIRES_TEST.csv? [y]es, [n]o, [A]ll, [N]one, [r]ename: y\n",
            "  inflating: WILDFIRES_TEST.csv      \n",
            "Archive:  WILDFIRES_TRAIN.zip\n",
            "replace WILDFIRES_TRAIN.csv? [y]es, [n]o, [A]ll, [N]one, [r]ename: y\n",
            "  inflating: WILDFIRES_TRAIN.csv     \n"
          ],
          "name": "stdout"
        }
      ]
    },
    {
      "cell_type": "markdown",
      "metadata": {
        "id": "OeAxUQ3dUIBC"
      },
      "source": [
        "We imported all of the necessary libraries and saved the data from the .csv files into Pandas dataframes. "
      ]
    },
    {
      "cell_type": "code",
      "metadata": {
        "id": "LiEcyMuTEjKu",
        "colab": {
          "base_uri": "https://localhost:8080/",
          "height": 450
        },
        "outputId": "72b9f649-bb8e-4b56-8433-844c468f82b9"
      },
      "source": [
        "import pandas as pd\r\n",
        "from sklearn import tree\r\n",
        "from sklearn.ensemble import RandomForestClassifier\r\n",
        "import numpy as np\r\n",
        "from sklearn import model_selection\r\n",
        "from sklearn import svm\r\n",
        "from scipy import stats\r\n",
        "from scipy.stats import uniform, truncnorm, randint\r\n",
        "from sklearn import preprocessing\r\n",
        "\r\n",
        "train_df = pd.read_csv('WILDFIRES_TRAIN.csv', index_col='id')\r\n",
        "test_df = pd.read_csv('WILDFIRES_TEST.csv', index_col='id')\r\n",
        "\r\n",
        "train_df "
      ],
      "execution_count": null,
      "outputs": [
        {
          "output_type": "execute_result",
          "data": {
            "text/html": [
              "<div>\n",
              "<style scoped>\n",
              "    .dataframe tbody tr th:only-of-type {\n",
              "        vertical-align: middle;\n",
              "    }\n",
              "\n",
              "    .dataframe tbody tr th {\n",
              "        vertical-align: top;\n",
              "    }\n",
              "\n",
              "    .dataframe thead th {\n",
              "        text-align: right;\n",
              "    }\n",
              "</style>\n",
              "<table border=\"1\" class=\"dataframe\">\n",
              "  <thead>\n",
              "    <tr style=\"text-align: right;\">\n",
              "      <th></th>\n",
              "      <th>LATITUDE</th>\n",
              "      <th>LONGITUDE</th>\n",
              "      <th>STATE</th>\n",
              "      <th>DISCOVERY_TIME</th>\n",
              "      <th>FIRE_SIZE</th>\n",
              "      <th>FIPS_NAME</th>\n",
              "      <th>FIPS_CODE</th>\n",
              "      <th>SOURCE_REPORTING_UNIT_NAME</th>\n",
              "      <th>DATE</th>\n",
              "      <th>LABEL</th>\n",
              "    </tr>\n",
              "    <tr>\n",
              "      <th>id</th>\n",
              "      <th></th>\n",
              "      <th></th>\n",
              "      <th></th>\n",
              "      <th></th>\n",
              "      <th></th>\n",
              "      <th></th>\n",
              "      <th></th>\n",
              "      <th></th>\n",
              "      <th></th>\n",
              "      <th></th>\n",
              "    </tr>\n",
              "  </thead>\n",
              "  <tbody>\n",
              "    <tr>\n",
              "      <th>0</th>\n",
              "      <td>38.205000</td>\n",
              "      <td>-120.335000</td>\n",
              "      <td>CA</td>\n",
              "      <td>130.0</td>\n",
              "      <td>0.10</td>\n",
              "      <td>NaN</td>\n",
              "      <td>NaN</td>\n",
              "      <td>Stanislaus National Forest</td>\n",
              "      <td>1992-01-01</td>\n",
              "      <td>1</td>\n",
              "    </tr>\n",
              "    <tr>\n",
              "      <th>1</th>\n",
              "      <td>33.813100</td>\n",
              "      <td>-85.104300</td>\n",
              "      <td>GA</td>\n",
              "      <td>1115.0</td>\n",
              "      <td>1.17</td>\n",
              "      <td>Haralson</td>\n",
              "      <td>143.0</td>\n",
              "      <td>Georgia Forestry Commission</td>\n",
              "      <td>1992-01-01</td>\n",
              "      <td>4</td>\n",
              "    </tr>\n",
              "    <tr>\n",
              "      <th>2</th>\n",
              "      <td>32.201000</td>\n",
              "      <td>-82.498700</td>\n",
              "      <td>GA</td>\n",
              "      <td>1600.0</td>\n",
              "      <td>0.07</td>\n",
              "      <td>Montgomery</td>\n",
              "      <td>209.0</td>\n",
              "      <td>Georgia Forestry Commission</td>\n",
              "      <td>1992-01-01</td>\n",
              "      <td>2</td>\n",
              "    </tr>\n",
              "    <tr>\n",
              "      <th>3</th>\n",
              "      <td>32.509300</td>\n",
              "      <td>-81.708600</td>\n",
              "      <td>GA</td>\n",
              "      <td>1215.0</td>\n",
              "      <td>4.40</td>\n",
              "      <td>Bulloch</td>\n",
              "      <td>31.0</td>\n",
              "      <td>Georgia Forestry Commission</td>\n",
              "      <td>1992-01-01</td>\n",
              "      <td>4</td>\n",
              "    </tr>\n",
              "    <tr>\n",
              "      <th>4</th>\n",
              "      <td>33.663889</td>\n",
              "      <td>-116.171944</td>\n",
              "      <td>CA</td>\n",
              "      <td>NaN</td>\n",
              "      <td>0.20</td>\n",
              "      <td>NaN</td>\n",
              "      <td>NaN</td>\n",
              "      <td>CDF - Riverside Unit</td>\n",
              "      <td>1992-01-01</td>\n",
              "      <td>2</td>\n",
              "    </tr>\n",
              "    <tr>\n",
              "      <th>...</th>\n",
              "      <td>...</td>\n",
              "      <td>...</td>\n",
              "      <td>...</td>\n",
              "      <td>...</td>\n",
              "      <td>...</td>\n",
              "      <td>...</td>\n",
              "      <td>...</td>\n",
              "      <td>...</td>\n",
              "      <td>...</td>\n",
              "      <td>...</td>\n",
              "    </tr>\n",
              "    <tr>\n",
              "      <th>285377</th>\n",
              "      <td>32.359105</td>\n",
              "      <td>-82.893909</td>\n",
              "      <td>GA</td>\n",
              "      <td>NaN</td>\n",
              "      <td>0.25</td>\n",
              "      <td>Laurens</td>\n",
              "      <td>175.0</td>\n",
              "      <td>GAS Ogeechee District, McRae Office</td>\n",
              "      <td>2009-12-30</td>\n",
              "      <td>4</td>\n",
              "    </tr>\n",
              "    <tr>\n",
              "      <th>285378</th>\n",
              "      <td>38.346342</td>\n",
              "      <td>-120.855472</td>\n",
              "      <td>CA</td>\n",
              "      <td>1031.0</td>\n",
              "      <td>0.10</td>\n",
              "      <td>NaN</td>\n",
              "      <td>NaN</td>\n",
              "      <td>Amador-El Dorado Unit</td>\n",
              "      <td>2009-12-30</td>\n",
              "      <td>2</td>\n",
              "    </tr>\n",
              "    <tr>\n",
              "      <th>285379</th>\n",
              "      <td>32.780596</td>\n",
              "      <td>-82.742433</td>\n",
              "      <td>GA</td>\n",
              "      <td>NaN</td>\n",
              "      <td>0.01</td>\n",
              "      <td>Johnson</td>\n",
              "      <td>167.0</td>\n",
              "      <td>GAS Oconee District, Milledgeville Office</td>\n",
              "      <td>2009-12-30</td>\n",
              "      <td>2</td>\n",
              "    </tr>\n",
              "    <tr>\n",
              "      <th>285380</th>\n",
              "      <td>33.985000</td>\n",
              "      <td>-116.915000</td>\n",
              "      <td>CA</td>\n",
              "      <td>NaN</td>\n",
              "      <td>0.30</td>\n",
              "      <td>NaN</td>\n",
              "      <td>NaN</td>\n",
              "      <td>CDF - Riverside Unit</td>\n",
              "      <td>2009-12-30</td>\n",
              "      <td>2</td>\n",
              "    </tr>\n",
              "    <tr>\n",
              "      <th>285381</th>\n",
              "      <td>33.470031</td>\n",
              "      <td>-116.953468</td>\n",
              "      <td>CA</td>\n",
              "      <td>1440.0</td>\n",
              "      <td>1.00</td>\n",
              "      <td>NaN</td>\n",
              "      <td>NaN</td>\n",
              "      <td>CDF - Riverside Unit</td>\n",
              "      <td>2009-12-31</td>\n",
              "      <td>2</td>\n",
              "    </tr>\n",
              "  </tbody>\n",
              "</table>\n",
              "<p>285382 rows × 10 columns</p>\n",
              "</div>"
            ],
            "text/plain": [
              "         LATITUDE   LONGITUDE  ...        DATE  LABEL\n",
              "id                             ...                   \n",
              "0       38.205000 -120.335000  ...  1992-01-01      1\n",
              "1       33.813100  -85.104300  ...  1992-01-01      4\n",
              "2       32.201000  -82.498700  ...  1992-01-01      2\n",
              "3       32.509300  -81.708600  ...  1992-01-01      4\n",
              "4       33.663889 -116.171944  ...  1992-01-01      2\n",
              "...           ...         ...  ...         ...    ...\n",
              "285377  32.359105  -82.893909  ...  2009-12-30      4\n",
              "285378  38.346342 -120.855472  ...  2009-12-30      2\n",
              "285379  32.780596  -82.742433  ...  2009-12-30      2\n",
              "285380  33.985000 -116.915000  ...  2009-12-30      2\n",
              "285381  33.470031 -116.953468  ...  2009-12-31      2\n",
              "\n",
              "[285382 rows x 10 columns]"
            ]
          },
          "metadata": {
            "tags": []
          },
          "execution_count": 51
        }
      ]
    },
    {
      "cell_type": "code",
      "metadata": {
        "id": "GYqHU583InPE",
        "colab": {
          "base_uri": "https://localhost:8080/",
          "height": 450
        },
        "outputId": "1d06a752-4e90-4fc4-95b9-57449cd761d2"
      },
      "source": [
        "test_df"
      ],
      "execution_count": null,
      "outputs": [
        {
          "output_type": "execute_result",
          "data": {
            "text/html": [
              "<div>\n",
              "<style scoped>\n",
              "    .dataframe tbody tr th:only-of-type {\n",
              "        vertical-align: middle;\n",
              "    }\n",
              "\n",
              "    .dataframe tbody tr th {\n",
              "        vertical-align: top;\n",
              "    }\n",
              "\n",
              "    .dataframe thead th {\n",
              "        text-align: right;\n",
              "    }\n",
              "</style>\n",
              "<table border=\"1\" class=\"dataframe\">\n",
              "  <thead>\n",
              "    <tr style=\"text-align: right;\">\n",
              "      <th></th>\n",
              "      <th>LATITUDE</th>\n",
              "      <th>LONGITUDE</th>\n",
              "      <th>STATE</th>\n",
              "      <th>DISCOVERY_TIME</th>\n",
              "      <th>FIRE_SIZE</th>\n",
              "      <th>FIPS_NAME</th>\n",
              "      <th>FIPS_CODE</th>\n",
              "      <th>SOURCE_REPORTING_UNIT_NAME</th>\n",
              "      <th>DATE</th>\n",
              "    </tr>\n",
              "    <tr>\n",
              "      <th>id</th>\n",
              "      <th></th>\n",
              "      <th></th>\n",
              "      <th></th>\n",
              "      <th></th>\n",
              "      <th></th>\n",
              "      <th></th>\n",
              "      <th></th>\n",
              "      <th></th>\n",
              "      <th></th>\n",
              "    </tr>\n",
              "  </thead>\n",
              "  <tbody>\n",
              "    <tr>\n",
              "      <th>285382</th>\n",
              "      <td>34.346944</td>\n",
              "      <td>-117.442222</td>\n",
              "      <td>CA</td>\n",
              "      <td>1605.0</td>\n",
              "      <td>0.20</td>\n",
              "      <td>San Bernardino</td>\n",
              "      <td>71.0</td>\n",
              "      <td>San Bernardino National Forest</td>\n",
              "      <td>2010-01-01</td>\n",
              "    </tr>\n",
              "    <tr>\n",
              "      <th>285383</th>\n",
              "      <td>34.020390</td>\n",
              "      <td>-116.179970</td>\n",
              "      <td>CA</td>\n",
              "      <td>1545.0</td>\n",
              "      <td>0.10</td>\n",
              "      <td>NaN</td>\n",
              "      <td>NaN</td>\n",
              "      <td>Joshua Tree National Monument</td>\n",
              "      <td>2010-01-01</td>\n",
              "    </tr>\n",
              "    <tr>\n",
              "      <th>285384</th>\n",
              "      <td>38.068611</td>\n",
              "      <td>-120.276667</td>\n",
              "      <td>CA</td>\n",
              "      <td>1200.0</td>\n",
              "      <td>0.10</td>\n",
              "      <td>Tuolumne</td>\n",
              "      <td>109.0</td>\n",
              "      <td>Stanislaus National Forest</td>\n",
              "      <td>2010-01-01</td>\n",
              "    </tr>\n",
              "    <tr>\n",
              "      <th>285385</th>\n",
              "      <td>32.499971</td>\n",
              "      <td>-83.742573</td>\n",
              "      <td>GA</td>\n",
              "      <td>NaN</td>\n",
              "      <td>0.40</td>\n",
              "      <td>Houston</td>\n",
              "      <td>153.0</td>\n",
              "      <td>GAS Flint District</td>\n",
              "      <td>2010-01-02</td>\n",
              "    </tr>\n",
              "    <tr>\n",
              "      <th>285386</th>\n",
              "      <td>32.924940</td>\n",
              "      <td>-114.992530</td>\n",
              "      <td>CA</td>\n",
              "      <td>126.0</td>\n",
              "      <td>0.10</td>\n",
              "      <td>Imperial</td>\n",
              "      <td>25.0</td>\n",
              "      <td>California Desert District</td>\n",
              "      <td>2010-01-02</td>\n",
              "    </tr>\n",
              "    <tr>\n",
              "      <th>...</th>\n",
              "      <td>...</td>\n",
              "      <td>...</td>\n",
              "      <td>...</td>\n",
              "      <td>...</td>\n",
              "      <td>...</td>\n",
              "      <td>...</td>\n",
              "      <td>...</td>\n",
              "      <td>...</td>\n",
              "      <td>...</td>\n",
              "    </tr>\n",
              "    <tr>\n",
              "      <th>358412</th>\n",
              "      <td>31.484142</td>\n",
              "      <td>-82.813569</td>\n",
              "      <td>GA</td>\n",
              "      <td>1446.0</td>\n",
              "      <td>0.01</td>\n",
              "      <td>Coffee</td>\n",
              "      <td>69.0</td>\n",
              "      <td>Georgia Forestry Commission</td>\n",
              "      <td>2015-12-31</td>\n",
              "    </tr>\n",
              "    <tr>\n",
              "      <th>358413</th>\n",
              "      <td>32.701123</td>\n",
              "      <td>-117.007382</td>\n",
              "      <td>CA</td>\n",
              "      <td>1816.0</td>\n",
              "      <td>0.10</td>\n",
              "      <td>San Diego</td>\n",
              "      <td>73.0</td>\n",
              "      <td>CDF - Monte Vista Unit</td>\n",
              "      <td>2015-12-31</td>\n",
              "    </tr>\n",
              "    <tr>\n",
              "      <th>358414</th>\n",
              "      <td>35.050000</td>\n",
              "      <td>-120.166666</td>\n",
              "      <td>CA</td>\n",
              "      <td>1723.0</td>\n",
              "      <td>0.01</td>\n",
              "      <td>Santa Barbara</td>\n",
              "      <td>83.0</td>\n",
              "      <td>Santa Barbara County Fire Department</td>\n",
              "      <td>2015-12-31</td>\n",
              "    </tr>\n",
              "    <tr>\n",
              "      <th>358415</th>\n",
              "      <td>36.536611</td>\n",
              "      <td>-119.556721</td>\n",
              "      <td>CA</td>\n",
              "      <td>1751.0</td>\n",
              "      <td>0.10</td>\n",
              "      <td>Fresno</td>\n",
              "      <td>19.0</td>\n",
              "      <td>CDF - Fresno-Kings Unit</td>\n",
              "      <td>2015-12-31</td>\n",
              "    </tr>\n",
              "    <tr>\n",
              "      <th>358416</th>\n",
              "      <td>39.173027</td>\n",
              "      <td>-121.057377</td>\n",
              "      <td>CA</td>\n",
              "      <td>2132.0</td>\n",
              "      <td>0.01</td>\n",
              "      <td>Nevada</td>\n",
              "      <td>57.0</td>\n",
              "      <td>Nevada-Yuba-Placer Unit</td>\n",
              "      <td>2015-12-31</td>\n",
              "    </tr>\n",
              "  </tbody>\n",
              "</table>\n",
              "<p>73035 rows × 9 columns</p>\n",
              "</div>"
            ],
            "text/plain": [
              "         LATITUDE   LONGITUDE  ...            SOURCE_REPORTING_UNIT_NAME        DATE\n",
              "id                             ...                                                  \n",
              "285382  34.346944 -117.442222  ...        San Bernardino National Forest  2010-01-01\n",
              "285383  34.020390 -116.179970  ...         Joshua Tree National Monument  2010-01-01\n",
              "285384  38.068611 -120.276667  ...            Stanislaus National Forest  2010-01-01\n",
              "285385  32.499971  -83.742573  ...                    GAS Flint District  2010-01-02\n",
              "285386  32.924940 -114.992530  ...            California Desert District  2010-01-02\n",
              "...           ...         ...  ...                                   ...         ...\n",
              "358412  31.484142  -82.813569  ...           Georgia Forestry Commission  2015-12-31\n",
              "358413  32.701123 -117.007382  ...                CDF - Monte Vista Unit  2015-12-31\n",
              "358414  35.050000 -120.166666  ...  Santa Barbara County Fire Department  2015-12-31\n",
              "358415  36.536611 -119.556721  ...               CDF - Fresno-Kings Unit  2015-12-31\n",
              "358416  39.173027 -121.057377  ...               Nevada-Yuba-Placer Unit  2015-12-31\n",
              "\n",
              "[73035 rows x 9 columns]"
            ]
          },
          "metadata": {
            "tags": []
          },
          "execution_count": 52
        }
      ]
    },
    {
      "cell_type": "markdown",
      "metadata": {
        "id": "EAXghuUhhYz2"
      },
      "source": [
        "# Feature Selection"
      ]
    },
    {
      "cell_type": "markdown",
      "metadata": {
        "id": "L6PKho2Qhh_j"
      },
      "source": [
        "We chose to use latitude, longitude, discovery time, fire size, and month of fire as the features for our model. We decided that the FIPS name, FIPS code, and source reporting unit name were not as useful to train our model because they were essentially classification labels, and could not be easily transformed into a form understandable by the model. We assumed that the day would not be relevant because each month has roughly the same range of values for days, and it does not contribute much to the general classification of the fire. We also tested the model using only the month, only the year, and with both, but found that it performed the best using only the month. In addition, we disregarded the points in the training set with NaN values by dropping them from the dataframe, in order to prevent interference from incomplete data."
      ]
    },
    {
      "cell_type": "code",
      "metadata": {
        "id": "iGCoyjrsInNA"
      },
      "source": [
        "train_df = train_df.drop(columns=['STATE', 'FIPS_NAME', 'FIPS_CODE', 'SOURCE_REPORTING_UNIT_NAME']).dropna()\n",
        "train_df['MONTH'] = train_df['DATE'].str[5:7].astype(int)\n",
        "train_df = train_df.drop(columns=['DATE'])"
      ],
      "execution_count": null,
      "outputs": []
    },
    {
      "cell_type": "code",
      "metadata": {
        "colab": {
          "base_uri": "https://localhost:8080/",
          "height": 450
        },
        "id": "-NyS0BZ4P7Se",
        "outputId": "43afee39-d40b-437e-c933-877144e0f942"
      },
      "source": [
        "train_df"
      ],
      "execution_count": null,
      "outputs": [
        {
          "output_type": "execute_result",
          "data": {
            "text/html": [
              "<div>\n",
              "<style scoped>\n",
              "    .dataframe tbody tr th:only-of-type {\n",
              "        vertical-align: middle;\n",
              "    }\n",
              "\n",
              "    .dataframe tbody tr th {\n",
              "        vertical-align: top;\n",
              "    }\n",
              "\n",
              "    .dataframe thead th {\n",
              "        text-align: right;\n",
              "    }\n",
              "</style>\n",
              "<table border=\"1\" class=\"dataframe\">\n",
              "  <thead>\n",
              "    <tr style=\"text-align: right;\">\n",
              "      <th></th>\n",
              "      <th>LATITUDE</th>\n",
              "      <th>LONGITUDE</th>\n",
              "      <th>DISCOVERY_TIME</th>\n",
              "      <th>FIRE_SIZE</th>\n",
              "      <th>LABEL</th>\n",
              "      <th>MONTH</th>\n",
              "    </tr>\n",
              "    <tr>\n",
              "      <th>id</th>\n",
              "      <th></th>\n",
              "      <th></th>\n",
              "      <th></th>\n",
              "      <th></th>\n",
              "      <th></th>\n",
              "      <th></th>\n",
              "    </tr>\n",
              "  </thead>\n",
              "  <tbody>\n",
              "    <tr>\n",
              "      <th>0</th>\n",
              "      <td>38.205000</td>\n",
              "      <td>-120.335000</td>\n",
              "      <td>130.0</td>\n",
              "      <td>0.10</td>\n",
              "      <td>1</td>\n",
              "      <td>1</td>\n",
              "    </tr>\n",
              "    <tr>\n",
              "      <th>1</th>\n",
              "      <td>33.813100</td>\n",
              "      <td>-85.104300</td>\n",
              "      <td>1115.0</td>\n",
              "      <td>1.17</td>\n",
              "      <td>4</td>\n",
              "      <td>1</td>\n",
              "    </tr>\n",
              "    <tr>\n",
              "      <th>2</th>\n",
              "      <td>32.201000</td>\n",
              "      <td>-82.498700</td>\n",
              "      <td>1600.0</td>\n",
              "      <td>0.07</td>\n",
              "      <td>2</td>\n",
              "      <td>1</td>\n",
              "    </tr>\n",
              "    <tr>\n",
              "      <th>3</th>\n",
              "      <td>32.509300</td>\n",
              "      <td>-81.708600</td>\n",
              "      <td>1215.0</td>\n",
              "      <td>4.40</td>\n",
              "      <td>4</td>\n",
              "      <td>1</td>\n",
              "    </tr>\n",
              "    <tr>\n",
              "      <th>5</th>\n",
              "      <td>33.166700</td>\n",
              "      <td>-116.634200</td>\n",
              "      <td>1330.0</td>\n",
              "      <td>5.00</td>\n",
              "      <td>2</td>\n",
              "      <td>1</td>\n",
              "    </tr>\n",
              "    <tr>\n",
              "      <th>...</th>\n",
              "      <td>...</td>\n",
              "      <td>...</td>\n",
              "      <td>...</td>\n",
              "      <td>...</td>\n",
              "      <td>...</td>\n",
              "      <td>...</td>\n",
              "    </tr>\n",
              "    <tr>\n",
              "      <th>285358</th>\n",
              "      <td>34.095891</td>\n",
              "      <td>-116.507868</td>\n",
              "      <td>1153.0</td>\n",
              "      <td>1.00</td>\n",
              "      <td>2</td>\n",
              "      <td>12</td>\n",
              "    </tr>\n",
              "    <tr>\n",
              "      <th>285359</th>\n",
              "      <td>34.556944</td>\n",
              "      <td>-83.397222</td>\n",
              "      <td>1300.0</td>\n",
              "      <td>1.80</td>\n",
              "      <td>3</td>\n",
              "      <td>12</td>\n",
              "    </tr>\n",
              "    <tr>\n",
              "      <th>285360</th>\n",
              "      <td>34.330000</td>\n",
              "      <td>-117.513056</td>\n",
              "      <td>922.0</td>\n",
              "      <td>0.10</td>\n",
              "      <td>2</td>\n",
              "      <td>12</td>\n",
              "    </tr>\n",
              "    <tr>\n",
              "      <th>285378</th>\n",
              "      <td>38.346342</td>\n",
              "      <td>-120.855472</td>\n",
              "      <td>1031.0</td>\n",
              "      <td>0.10</td>\n",
              "      <td>2</td>\n",
              "      <td>12</td>\n",
              "    </tr>\n",
              "    <tr>\n",
              "      <th>285381</th>\n",
              "      <td>33.470031</td>\n",
              "      <td>-116.953468</td>\n",
              "      <td>1440.0</td>\n",
              "      <td>1.00</td>\n",
              "      <td>2</td>\n",
              "      <td>12</td>\n",
              "    </tr>\n",
              "  </tbody>\n",
              "</table>\n",
              "<p>143974 rows × 6 columns</p>\n",
              "</div>"
            ],
            "text/plain": [
              "         LATITUDE   LONGITUDE  DISCOVERY_TIME  FIRE_SIZE  LABEL  MONTH\n",
              "id                                                                    \n",
              "0       38.205000 -120.335000           130.0       0.10      1      1\n",
              "1       33.813100  -85.104300          1115.0       1.17      4      1\n",
              "2       32.201000  -82.498700          1600.0       0.07      2      1\n",
              "3       32.509300  -81.708600          1215.0       4.40      4      1\n",
              "5       33.166700 -116.634200          1330.0       5.00      2      1\n",
              "...           ...         ...             ...        ...    ...    ...\n",
              "285358  34.095891 -116.507868          1153.0       1.00      2     12\n",
              "285359  34.556944  -83.397222          1300.0       1.80      3     12\n",
              "285360  34.330000 -117.513056           922.0       0.10      2     12\n",
              "285378  38.346342 -120.855472          1031.0       0.10      2     12\n",
              "285381  33.470031 -116.953468          1440.0       1.00      2     12\n",
              "\n",
              "[143974 rows x 6 columns]"
            ]
          },
          "metadata": {
            "tags": []
          },
          "execution_count": 54
        }
      ]
    },
    {
      "cell_type": "markdown",
      "metadata": {
        "id": "9oCzZmBwjcb3"
      },
      "source": [
        "# Outlier Removal"
      ]
    },
    {
      "cell_type": "markdown",
      "metadata": {
        "id": "BmjOESpu7F77"
      },
      "source": [
        "The following plot shows the distribution of maximum z-scores for points in the training set. Since the vast majority of the points fell in the range of having a z-score less than 3, we chose to make 3 our boundary for outliers. "
      ]
    },
    {
      "cell_type": "code",
      "metadata": {
        "colab": {
          "base_uri": "https://localhost:8080/",
          "height": 296
        },
        "id": "OoKbTNNoyODi",
        "outputId": "bf584491-eb8c-4150-8457-05a9c990c974"
      },
      "source": [
        "max_zscore = pd.DataFrame(np.sort(stats.zscore(train_df)).max(axis=1))\n",
        "plt = max_zscore.plot.hist(xlim=(0, 5), logy=True, bins=np.linspace(0, 5, 20))\n",
        "plt.set_xlabel('Z-Score')"
      ],
      "execution_count": null,
      "outputs": [
        {
          "output_type": "execute_result",
          "data": {
            "text/plain": [
              "Text(0.5, 0, 'Z-Score')"
            ]
          },
          "metadata": {
            "tags": []
          },
          "execution_count": 55
        },
        {
          "output_type": "display_data",
          "data": {
            "image/png": "[encoded data removed]",
            "text/plain": [
              "<Figure size 432x288 with 1 Axes>"
            ]
          },
          "metadata": {
            "tags": [],
            "needs_background": "light"
          }
        }
      ]
    },
    {
      "cell_type": "markdown",
      "metadata": {
        "id": "F0rj_y8TjiVv"
      },
      "source": [
        "We removed outliers from our training set by removing all points with a z-score greater than 3. "
      ]
    },
    {
      "cell_type": "code",
      "metadata": {
        "colab": {
          "base_uri": "https://localhost:8080/",
          "height": 450
        },
        "id": "gXuj-1alCvQk",
        "outputId": "8bfd9fe4-9956-4ac3-d35e-2e59e150aa8f"
      },
      "source": [
        "train_df = train_df[(np.abs(stats.zscore(train_df)) < 3).all(axis=1)]\n",
        "\n",
        "train_df\n"
      ],
      "execution_count": null,
      "outputs": [
        {
          "output_type": "execute_result",
          "data": {
            "text/html": [
              "<div>\n",
              "<style scoped>\n",
              "    .dataframe tbody tr th:only-of-type {\n",
              "        vertical-align: middle;\n",
              "    }\n",
              "\n",
              "    .dataframe tbody tr th {\n",
              "        vertical-align: top;\n",
              "    }\n",
              "\n",
              "    .dataframe thead th {\n",
              "        text-align: right;\n",
              "    }\n",
              "</style>\n",
              "<table border=\"1\" class=\"dataframe\">\n",
              "  <thead>\n",
              "    <tr style=\"text-align: right;\">\n",
              "      <th></th>\n",
              "      <th>LATITUDE</th>\n",
              "      <th>LONGITUDE</th>\n",
              "      <th>DISCOVERY_TIME</th>\n",
              "      <th>FIRE_SIZE</th>\n",
              "      <th>LABEL</th>\n",
              "      <th>MONTH</th>\n",
              "    </tr>\n",
              "    <tr>\n",
              "      <th>id</th>\n",
              "      <th></th>\n",
              "      <th></th>\n",
              "      <th></th>\n",
              "      <th></th>\n",
              "      <th></th>\n",
              "      <th></th>\n",
              "    </tr>\n",
              "  </thead>\n",
              "  <tbody>\n",
              "    <tr>\n",
              "      <th>1</th>\n",
              "      <td>33.813100</td>\n",
              "      <td>-85.104300</td>\n",
              "      <td>1115.0</td>\n",
              "      <td>1.17</td>\n",
              "      <td>4</td>\n",
              "      <td>1</td>\n",
              "    </tr>\n",
              "    <tr>\n",
              "      <th>2</th>\n",
              "      <td>32.201000</td>\n",
              "      <td>-82.498700</td>\n",
              "      <td>1600.0</td>\n",
              "      <td>0.07</td>\n",
              "      <td>2</td>\n",
              "      <td>1</td>\n",
              "    </tr>\n",
              "    <tr>\n",
              "      <th>3</th>\n",
              "      <td>32.509300</td>\n",
              "      <td>-81.708600</td>\n",
              "      <td>1215.0</td>\n",
              "      <td>4.40</td>\n",
              "      <td>4</td>\n",
              "      <td>1</td>\n",
              "    </tr>\n",
              "    <tr>\n",
              "      <th>5</th>\n",
              "      <td>33.166700</td>\n",
              "      <td>-116.634200</td>\n",
              "      <td>1330.0</td>\n",
              "      <td>5.00</td>\n",
              "      <td>2</td>\n",
              "      <td>1</td>\n",
              "    </tr>\n",
              "    <tr>\n",
              "      <th>6</th>\n",
              "      <td>31.275800</td>\n",
              "      <td>-83.755500</td>\n",
              "      <td>1500.0</td>\n",
              "      <td>3.20</td>\n",
              "      <td>3</td>\n",
              "      <td>1</td>\n",
              "    </tr>\n",
              "    <tr>\n",
              "      <th>...</th>\n",
              "      <td>...</td>\n",
              "      <td>...</td>\n",
              "      <td>...</td>\n",
              "      <td>...</td>\n",
              "      <td>...</td>\n",
              "      <td>...</td>\n",
              "    </tr>\n",
              "    <tr>\n",
              "      <th>285358</th>\n",
              "      <td>34.095891</td>\n",
              "      <td>-116.507868</td>\n",
              "      <td>1153.0</td>\n",
              "      <td>1.00</td>\n",
              "      <td>2</td>\n",
              "      <td>12</td>\n",
              "    </tr>\n",
              "    <tr>\n",
              "      <th>285359</th>\n",
              "      <td>34.556944</td>\n",
              "      <td>-83.397222</td>\n",
              "      <td>1300.0</td>\n",
              "      <td>1.80</td>\n",
              "      <td>3</td>\n",
              "      <td>12</td>\n",
              "    </tr>\n",
              "    <tr>\n",
              "      <th>285360</th>\n",
              "      <td>34.330000</td>\n",
              "      <td>-117.513056</td>\n",
              "      <td>922.0</td>\n",
              "      <td>0.10</td>\n",
              "      <td>2</td>\n",
              "      <td>12</td>\n",
              "    </tr>\n",
              "    <tr>\n",
              "      <th>285378</th>\n",
              "      <td>38.346342</td>\n",
              "      <td>-120.855472</td>\n",
              "      <td>1031.0</td>\n",
              "      <td>0.10</td>\n",
              "      <td>2</td>\n",
              "      <td>12</td>\n",
              "    </tr>\n",
              "    <tr>\n",
              "      <th>285381</th>\n",
              "      <td>33.470031</td>\n",
              "      <td>-116.953468</td>\n",
              "      <td>1440.0</td>\n",
              "      <td>1.00</td>\n",
              "      <td>2</td>\n",
              "      <td>12</td>\n",
              "    </tr>\n",
              "  </tbody>\n",
              "</table>\n",
              "<p>141201 rows × 6 columns</p>\n",
              "</div>"
            ],
            "text/plain": [
              "         LATITUDE   LONGITUDE  DISCOVERY_TIME  FIRE_SIZE  LABEL  MONTH\n",
              "id                                                                    \n",
              "1       33.813100  -85.104300          1115.0       1.17      4      1\n",
              "2       32.201000  -82.498700          1600.0       0.07      2      1\n",
              "3       32.509300  -81.708600          1215.0       4.40      4      1\n",
              "5       33.166700 -116.634200          1330.0       5.00      2      1\n",
              "6       31.275800  -83.755500          1500.0       3.20      3      1\n",
              "...           ...         ...             ...        ...    ...    ...\n",
              "285358  34.095891 -116.507868          1153.0       1.00      2     12\n",
              "285359  34.556944  -83.397222          1300.0       1.80      3     12\n",
              "285360  34.330000 -117.513056           922.0       0.10      2     12\n",
              "285378  38.346342 -120.855472          1031.0       0.10      2     12\n",
              "285381  33.470031 -116.953468          1440.0       1.00      2     12\n",
              "\n",
              "[141201 rows x 6 columns]"
            ]
          },
          "metadata": {
            "tags": []
          },
          "execution_count": 56
        }
      ]
    },
    {
      "cell_type": "markdown",
      "metadata": {
        "id": "-bVwrNpXkKah"
      },
      "source": [
        "Here, we separate the classification labels from the features. "
      ]
    },
    {
      "cell_type": "code",
      "metadata": {
        "id": "-0n2yuDfQafB"
      },
      "source": [
        "features = ['LATITUDE', 'LONGITUDE', 'DISCOVERY_TIME', 'FIRE_SIZE', 'MONTH']\r\n",
        "\r\n",
        "X_train = train_df.loc[:, features].values\r\n",
        "\r\n",
        "Y_train = train_df.loc[:,['LABEL']].values.ravel()"
      ],
      "execution_count": null,
      "outputs": []
    },
    {
      "cell_type": "markdown",
      "metadata": {
        "id": "1EBoEnpEkUIG"
      },
      "source": [
        "# Training the Model"
      ]
    },
    {
      "cell_type": "markdown",
      "metadata": {
        "id": "QBa14LeekW-A"
      },
      "source": [
        "After testing several models, we chose to use the RandomForestClassifier with 500 decision trees and gini impurity. To reduce overfitting, we set a minimum number of 10 samples per leaf. "
      ]
    },
    {
      "cell_type": "code",
      "metadata": {
        "id": "GktAtlPNFqrq",
        "colab": {
          "base_uri": "https://localhost:8080/"
        },
        "outputId": "31e5e103-fcb4-4437-9121-7a9343c7f7af"
      },
      "source": [
        "np.random.seed(1)\n",
        "\n",
        "n_estimators = 500\n",
        "clf = RandomForestClassifier(n_estimators = n_estimators, criterion = 'gini', min_samples_leaf=10)\n",
        "clf.fit(X_train, Y_train)"
      ],
      "execution_count": null,
      "outputs": [
        {
          "output_type": "execute_result",
          "data": {
            "text/plain": [
              "RandomForestClassifier(bootstrap=True, ccp_alpha=0.0, class_weight=None,\n",
              "                       criterion='gini', max_depth=None, max_features='auto',\n",
              "                       max_leaf_nodes=None, max_samples=None,\n",
              "                       min_impurity_decrease=0.0, min_impurity_split=None,\n",
              "                       min_samples_leaf=10, min_samples_split=2,\n",
              "                       min_weight_fraction_leaf=0.0, n_estimators=500,\n",
              "                       n_jobs=None, oob_score=False, random_state=None,\n",
              "                       verbose=0, warm_start=False)"
            ]
          },
          "metadata": {
            "tags": []
          },
          "execution_count": 58
        }
      ]
    },
    {
      "cell_type": "markdown",
      "metadata": {
        "id": "30cJjWhCysqR"
      },
      "source": [
        "Relative importance of features, in order of [Latitude, Longitude, Discovery Time, Fire Size, Month]. "
      ]
    },
    {
      "cell_type": "code",
      "metadata": {
        "colab": {
          "base_uri": "https://localhost:8080/"
        },
        "id": "OjbsdV2yyAlE",
        "outputId": "1d5a9abb-bf7f-4127-a953-c0cb1720cdac"
      },
      "source": [
        "print(clf.feature_importances_)"
      ],
      "execution_count": null,
      "outputs": [
        {
          "output_type": "stream",
          "text": [
            "[0.32120848 0.36005075 0.14437803 0.07924464 0.09511809]\n"
          ],
          "name": "stdout"
        }
      ]
    },
    {
      "cell_type": "markdown",
      "metadata": {
        "id": "RnCs3qnikvNy"
      },
      "source": [
        "# Formatting the Test Data"
      ]
    },
    {
      "cell_type": "markdown",
      "metadata": {
        "id": "YlBW4CdAkyH6"
      },
      "source": [
        "To predict the test data, we removed all of the features except for the ones we trained on. In addition, since we wanted to predict the labels of all the points in the test set, we filled all of the NaN values with the mean of that column rather than dropping them completely. "
      ]
    },
    {
      "cell_type": "code",
      "metadata": {
        "id": "NMSSJc64qx5s"
      },
      "source": [
        "test_df = test_df.drop(columns=['STATE', 'FIPS_NAME', 'FIPS_CODE', 'SOURCE_REPORTING_UNIT_NAME']).fillna(test_df.mean())\n",
        "test_df['MONTH'] = test_df['DATE'].str[5:7]\n",
        "test_df = test_df.drop(columns=['DATE'])\n"
      ],
      "execution_count": null,
      "outputs": []
    },
    {
      "cell_type": "markdown",
      "metadata": {
        "id": "L0C8X3shlHtx"
      },
      "source": [
        "We used our trained model to obtain the probability that each test point was a certain class. "
      ]
    },
    {
      "cell_type": "code",
      "metadata": {
        "id": "_ki_viTPYV6t"
      },
      "source": [
        "test = test_df.loc[:, features].values\n",
        "\n",
        "results = clf.predict_proba(test)"
      ],
      "execution_count": null,
      "outputs": []
    },
    {
      "cell_type": "markdown",
      "metadata": {
        "id": "ZNxF6hzhlOou"
      },
      "source": [
        "Finally, we outputted our results into a .csv file, listing the id of the fire followed by the probability that it was class 1, 2, 3, and 4. "
      ]
    },
    {
      "cell_type": "code",
      "metadata": {
        "id": "CToIHG3OV-gn"
      },
      "source": [
        "f = open(\"output.csv\", \"w\")\n",
        "id_index = 285382\n",
        "f.write(\"id,P1,P2,P3,P4\\n\")\n",
        "for point in results:\n",
        "  f.write(\"{id},{P1},{P2},{P3},{P4}\\n\".format(id = str(id_index), P1 = point[0], P2 = point[1], P3 = point[2], P4 = point[3]))\n",
        "  id_index += 1\n",
        "f.close()"
      ],
      "execution_count": null,
      "outputs": []
    }
  ]
}